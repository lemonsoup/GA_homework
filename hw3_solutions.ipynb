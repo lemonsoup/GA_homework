{
 "cells": [
  {
   "cell_type": "markdown",
   "metadata": {},
   "source": [
    "Instructions: answer the following questions with data and visuals (where appropriate)\n",
    "==\n",
    "\n",
    "* Give an overall summary of your performance from HW2 on the dataset\n",
    "* Do you see any areas for improvement?\n",
    "* Run k-Means on the dataset and describe your results\n",
    "* Run PCA on the dataset and describe your results\n",
    "* Use the cluster outputs you got from running k-means as a new feature. Rerun your \"worst\" and \"best\" model from HW2, including this new feature along with your old features. Describe your results.\n",
    "* Use the PCA outputs you got from running PCA above as your features. Rerun your \"worst\" and \"best\" model from HW2, with the PCA features instead of your old features. Describe your results.\n",
    "* Give your conclusions on the use of k-Means and PCA on the Diabetes dataset\n",
    "\n",
    "\n",
    "### Note: you should know by now, but here is the order of importance: ###\n",
    "\n",
    "* Your analysis (there is no \"right\" answer, only good and bad defense of it)\n",
    "* Your visuals\n",
    "* Your coding implementation"
   ]
  },
  {
   "cell_type": "code",
   "execution_count": 1,
   "metadata": {
    "collapsed": false
   },
   "outputs": [
    {
     "name": "stderr",
     "output_type": "stream",
     "text": [
      "/Users/lkikuchi/anaconda/lib/python2.7/site-packages/matplotlib/font_manager.py:273: UserWarning: Matplotlib is building the font cache using fc-list. This may take a moment.\n",
      "  warnings.warn('Matplotlib is building the font cache using fc-list. This may take a moment.')\n"
     ]
    }
   ],
   "source": [
    "import pandas as pd\n",
    "import numpy as np\n",
    "import seaborn as sns\n",
    "import matplotlib.pyplot as plt\n",
    "%matplotlib inline\n",
    "\n",
    "#set plotting style to preference\n",
    "plt.style.use('ggplot')"
   ]
  },
  {
   "cell_type": "code",
   "execution_count": 2,
   "metadata": {
    "collapsed": true
   },
   "outputs": [],
   "source": [
    "# read the data\n",
    "names = ['preg','glucose','dbp','tsf','insulin','bmi','pedigree','age','class']\n",
    "df = pd.read_csv('https://archive.ics.uci.edu/ml/machine-learning-databases/pima-indians-diabetes/pima-indians-diabetes.data', names=names)"
   ]
  },
  {
   "cell_type": "code",
   "execution_count": 3,
   "metadata": {
    "collapsed": true
   },
   "outputs": [],
   "source": [
    "# drop missing values \n",
    "# replace 0s in glucose, dbp, and bmi\n",
    "df = df.replace({'glucose':{0:np.nan},'dbp':{0:np.nan},'bmi':{0:np.nan}})\n",
    "# drop na\n",
    "df = df.dropna()"
   ]
  },
  {
   "cell_type": "code",
   "execution_count": 4,
   "metadata": {
    "collapsed": true
   },
   "outputs": [],
   "source": [
    "# since all rows where tsf is 0 also has 0 for insulin, these are not great rows.  drop tsf 0 \n",
    "df = df.replace({'tsf':{0:np.nan}})\n",
    "df = df.dropna()"
   ]
  },
  {
   "cell_type": "code",
   "execution_count": 5,
   "metadata": {
    "collapsed": false,
    "scrolled": true
   },
   "outputs": [
    {
     "data": {
      "text/html": [
       "<div>\n",
       "<table border=\"1\" class=\"dataframe\">\n",
       "  <thead>\n",
       "    <tr style=\"text-align: right;\">\n",
       "      <th></th>\n",
       "      <th>preg</th>\n",
       "      <th>glucose</th>\n",
       "      <th>dbp</th>\n",
       "      <th>tsf</th>\n",
       "      <th>insulin</th>\n",
       "      <th>bmi</th>\n",
       "      <th>pedigree</th>\n",
       "      <th>age</th>\n",
       "      <th>class</th>\n",
       "    </tr>\n",
       "  </thead>\n",
       "  <tbody>\n",
       "    <tr>\n",
       "      <th>count</th>\n",
       "      <td>532.000000</td>\n",
       "      <td>532.000000</td>\n",
       "      <td>532.000000</td>\n",
       "      <td>532.000000</td>\n",
       "      <td>532.000000</td>\n",
       "      <td>532.000000</td>\n",
       "      <td>532.000000</td>\n",
       "      <td>532.000000</td>\n",
       "      <td>532.000000</td>\n",
       "    </tr>\n",
       "    <tr>\n",
       "      <th>mean</th>\n",
       "      <td>3.516917</td>\n",
       "      <td>121.030075</td>\n",
       "      <td>71.505639</td>\n",
       "      <td>29.182331</td>\n",
       "      <td>114.988722</td>\n",
       "      <td>32.890226</td>\n",
       "      <td>0.502966</td>\n",
       "      <td>31.614662</td>\n",
       "      <td>0.332707</td>\n",
       "    </tr>\n",
       "    <tr>\n",
       "      <th>std</th>\n",
       "      <td>3.312036</td>\n",
       "      <td>30.999226</td>\n",
       "      <td>12.310253</td>\n",
       "      <td>10.523878</td>\n",
       "      <td>123.007555</td>\n",
       "      <td>6.881109</td>\n",
       "      <td>0.344546</td>\n",
       "      <td>10.761584</td>\n",
       "      <td>0.471626</td>\n",
       "    </tr>\n",
       "    <tr>\n",
       "      <th>min</th>\n",
       "      <td>0.000000</td>\n",
       "      <td>56.000000</td>\n",
       "      <td>24.000000</td>\n",
       "      <td>7.000000</td>\n",
       "      <td>0.000000</td>\n",
       "      <td>18.200000</td>\n",
       "      <td>0.085000</td>\n",
       "      <td>21.000000</td>\n",
       "      <td>0.000000</td>\n",
       "    </tr>\n",
       "    <tr>\n",
       "      <th>25%</th>\n",
       "      <td>1.000000</td>\n",
       "      <td>98.750000</td>\n",
       "      <td>64.000000</td>\n",
       "      <td>22.000000</td>\n",
       "      <td>0.000000</td>\n",
       "      <td>27.875000</td>\n",
       "      <td>0.258750</td>\n",
       "      <td>23.000000</td>\n",
       "      <td>0.000000</td>\n",
       "    </tr>\n",
       "    <tr>\n",
       "      <th>50%</th>\n",
       "      <td>2.000000</td>\n",
       "      <td>115.000000</td>\n",
       "      <td>72.000000</td>\n",
       "      <td>29.000000</td>\n",
       "      <td>91.500000</td>\n",
       "      <td>32.800000</td>\n",
       "      <td>0.416000</td>\n",
       "      <td>28.000000</td>\n",
       "      <td>0.000000</td>\n",
       "    </tr>\n",
       "    <tr>\n",
       "      <th>75%</th>\n",
       "      <td>5.000000</td>\n",
       "      <td>141.250000</td>\n",
       "      <td>80.000000</td>\n",
       "      <td>36.000000</td>\n",
       "      <td>165.250000</td>\n",
       "      <td>36.900000</td>\n",
       "      <td>0.658500</td>\n",
       "      <td>38.000000</td>\n",
       "      <td>1.000000</td>\n",
       "    </tr>\n",
       "    <tr>\n",
       "      <th>max</th>\n",
       "      <td>17.000000</td>\n",
       "      <td>199.000000</td>\n",
       "      <td>110.000000</td>\n",
       "      <td>99.000000</td>\n",
       "      <td>846.000000</td>\n",
       "      <td>67.100000</td>\n",
       "      <td>2.420000</td>\n",
       "      <td>81.000000</td>\n",
       "      <td>1.000000</td>\n",
       "    </tr>\n",
       "  </tbody>\n",
       "</table>\n",
       "</div>"
      ],
      "text/plain": [
       "             preg     glucose         dbp         tsf     insulin         bmi  \\\n",
       "count  532.000000  532.000000  532.000000  532.000000  532.000000  532.000000   \n",
       "mean     3.516917  121.030075   71.505639   29.182331  114.988722   32.890226   \n",
       "std      3.312036   30.999226   12.310253   10.523878  123.007555    6.881109   \n",
       "min      0.000000   56.000000   24.000000    7.000000    0.000000   18.200000   \n",
       "25%      1.000000   98.750000   64.000000   22.000000    0.000000   27.875000   \n",
       "50%      2.000000  115.000000   72.000000   29.000000   91.500000   32.800000   \n",
       "75%      5.000000  141.250000   80.000000   36.000000  165.250000   36.900000   \n",
       "max     17.000000  199.000000  110.000000   99.000000  846.000000   67.100000   \n",
       "\n",
       "         pedigree         age       class  \n",
       "count  532.000000  532.000000  532.000000  \n",
       "mean     0.502966   31.614662    0.332707  \n",
       "std      0.344546   10.761584    0.471626  \n",
       "min      0.085000   21.000000    0.000000  \n",
       "25%      0.258750   23.000000    0.000000  \n",
       "50%      0.416000   28.000000    0.000000  \n",
       "75%      0.658500   38.000000    1.000000  \n",
       "max      2.420000   81.000000    1.000000  "
      ]
     },
     "execution_count": 5,
     "metadata": {},
     "output_type": "execute_result"
    }
   ],
   "source": [
    "df.describe()"
   ]
  },
  {
   "cell_type": "code",
   "execution_count": 6,
   "metadata": {
    "collapsed": false
   },
   "outputs": [],
   "source": [
    "# Set up the train test data\n",
    "from sklearn.cross_validation import train_test_split\n",
    "\n",
    "y, X = df['class'], df.drop(['class'], axis=1)\n",
    "X_train, X_test, y_train, y_test = train_test_split(X, y,test_size=0.2, random_state=0)"
   ]
  },
  {
   "cell_type": "code",
   "execution_count": 7,
   "metadata": {
    "collapsed": true
   },
   "outputs": [],
   "source": [
    "# impute with mean for insulin \n",
    "X_train = X_train.replace({'insulin':{0:X_train[X_train['insulin']<>0]['insulin'].mean()}})\n",
    "X_test = X_test.replace({'insulin':{0:X_test[X_test['insulin']<>0]['insulin'].mean()}})"
   ]
  },
  {
   "cell_type": "code",
   "execution_count": 8,
   "metadata": {
    "collapsed": true
   },
   "outputs": [],
   "source": [
    "# standardization: bring all of our features onto the same scale\n",
    "# this makes it easier for ML algorithms to learn\n",
    "from sklearn.preprocessing import StandardScaler\n",
    "stdsc = StandardScaler()\n",
    "# transform our training features\n",
    "X_train_std = stdsc.fit_transform(X_train)\n",
    "# transform the testing features in the same way\n",
    "X_test_std = stdsc.transform(X_test)"
   ]
  },
  {
   "cell_type": "markdown",
   "metadata": {},
   "source": [
    "1. Give an overall summary of your performance from HW2 on the dataset\n",
    "=="
   ]
  },
  {
   "cell_type": "markdown",
   "metadata": {},
   "source": [
    "* We found that considering time and performance, logistic regression seemed to be the best model, with 78.5% accuracy, 84.1% recall, 58.2% f1\n",
    "* Overall, most models suffered from high bias, except perhaps random forest which showed high variance"
   ]
  },
  {
   "cell_type": "markdown",
   "metadata": {},
   "source": [
    "2. Do you see any areas for improvement?\n",
    "=="
   ]
  },
  {
   "cell_type": "markdown",
   "metadata": {},
   "source": [
    "* Further feature engineering may help the bias issues\n",
    "* Trying different ways to deal with null values (dropping vs imputing the mean) could help"
   ]
  },
  {
   "cell_type": "markdown",
   "metadata": {},
   "source": [
    "3. Run k-Means on the dataset and describe your results\n",
    "=="
   ]
  },
  {
   "cell_type": "code",
   "execution_count": 9,
   "metadata": {
    "collapsed": true
   },
   "outputs": [],
   "source": [
    "from sklearn.cluster import KMeans"
   ]
  },
  {
   "cell_type": "code",
   "execution_count": 10,
   "metadata": {
    "collapsed": false,
    "scrolled": true
   },
   "outputs": [
    {
     "data": {
      "text/plain": [
       "[<matplotlib.lines.Line2D at 0x10c15df10>]"
      ]
     },
     "execution_count": 10,
     "metadata": {},
     "output_type": "execute_result"
    },
    {
     "data": {
      "image/png": "[encoded data removed]",
      "text/plain": [
       "<matplotlib.figure.Figure at 0x10c0a3650>"
      ]
     },
     "metadata": {},
     "output_type": "display_data"
    }
   ],
   "source": [
    "# look for the elbow!\n",
    "import matplotlib.pyplot as plt\n",
    "%matplotlib inline\n",
    "\n",
    "x = []\n",
    "y = []\n",
    "for n in range(1,20):\n",
    "    km2 = KMeans(n_clusters=n)\n",
    "    km2.fit(X_train_std)\n",
    "    x.append(n)\n",
    "    y.append(km2.inertia_)\n",
    "plt.plot(x, y)"
   ]
  },
  {
   "cell_type": "code",
   "execution_count": 11,
   "metadata": {
    "collapsed": false,
    "scrolled": false
   },
   "outputs": [
    {
     "data": {
      "text/plain": [
       "[<matplotlib.lines.Line2D at 0x10c21cad0>]"
      ]
     },
     "execution_count": 11,
     "metadata": {},
     "output_type": "execute_result"
    },
    {
     "data": {
      "image/png": "[encoded data removed]",
      "text/plain": [
       "<matplotlib.figure.Figure at 0x10c0fb410>"
      ]
     },
     "metadata": {},
     "output_type": "display_data"
    }
   ],
   "source": [
    "# chec silhouette scores - looks like 2 wins, though we could try 3 and 4\n",
    "from sklearn.metrics import silhouette_score\n",
    "x = []\n",
    "y = []\n",
    "for n in range(2,20):\n",
    "    km2 = KMeans(n_clusters=n)\n",
    "    centers = km2.fit_predict(X_train_std)\n",
    "    x.append(n)\n",
    "    y.append(silhouette_score(X_train_std, centers))\n",
    "plt.plot(x, y)"
   ]
  },
  {
   "cell_type": "code",
   "execution_count": 12,
   "metadata": {
    "collapsed": false,
    "scrolled": true
   },
   "outputs": [
    {
     "data": {
      "text/html": [
       "<div>\n",
       "<table border=\"1\" class=\"dataframe\">\n",
       "  <thead>\n",
       "    <tr style=\"text-align: right;\">\n",
       "      <th></th>\n",
       "      <th>0</th>\n",
       "      <th>1</th>\n",
       "    </tr>\n",
       "  </thead>\n",
       "  <tbody>\n",
       "    <tr>\n",
       "      <th>preg</th>\n",
       "      <td>2.224</td>\n",
       "      <td>5.514</td>\n",
       "    </tr>\n",
       "    <tr>\n",
       "      <th>glucose</th>\n",
       "      <td>107.656</td>\n",
       "      <td>142.543</td>\n",
       "    </tr>\n",
       "    <tr>\n",
       "      <th>dbp</th>\n",
       "      <td>66.624</td>\n",
       "      <td>78.891</td>\n",
       "    </tr>\n",
       "    <tr>\n",
       "      <th>tsf</th>\n",
       "      <td>25.708</td>\n",
       "      <td>34.571</td>\n",
       "    </tr>\n",
       "    <tr>\n",
       "      <th>insulin</th>\n",
       "      <td>124.915</td>\n",
       "      <td>210.458</td>\n",
       "    </tr>\n",
       "    <tr>\n",
       "      <th>bmi</th>\n",
       "      <td>30.719</td>\n",
       "      <td>36.125</td>\n",
       "    </tr>\n",
       "    <tr>\n",
       "      <th>pedigree</th>\n",
       "      <td>0.421</td>\n",
       "      <td>0.610</td>\n",
       "    </tr>\n",
       "    <tr>\n",
       "      <th>age</th>\n",
       "      <td>26.112</td>\n",
       "      <td>40.171</td>\n",
       "    </tr>\n",
       "  </tbody>\n",
       "</table>\n",
       "</div>"
      ],
      "text/plain": [
       "               0       1\n",
       "preg       2.224   5.514\n",
       "glucose  107.656 142.543\n",
       "dbp       66.624  78.891\n",
       "tsf       25.708  34.571\n",
       "insulin  124.915 210.458\n",
       "bmi       30.719  36.125\n",
       "pedigree   0.421   0.610\n",
       "age       26.112  40.171"
      ]
     },
     "execution_count": 12,
     "metadata": {},
     "output_type": "execute_result"
    }
   ],
   "source": [
    "# get the cluster centers in the original scale\n",
    "# this means you will have k cluster centers\n",
    "# we pick k=2 based on silhouette score and elbow method\n",
    "km = KMeans(n_clusters=2, n_init=20)\n",
    "km.fit(X_train_std)\n",
    "pd.set_option('display.float_format', lambda x: '%.3f' % x)\n",
    "columns = {str(x): stdsc.inverse_transform(km.cluster_centers_[x]) for x in range(0,len(km.cluster_centers_))}\n",
    "pd.DataFrame(columns, index=X.columns)"
   ]
  },
  {
   "cell_type": "markdown",
   "metadata": {},
   "source": [
    "4. Run PCA on the dataset and describe your results\n",
    "=="
   ]
  },
  {
   "cell_type": "code",
   "execution_count": 13,
   "metadata": {
    "collapsed": true
   },
   "outputs": [],
   "source": [
    "from sklearn.decomposition import PCA"
   ]
  },
  {
   "cell_type": "code",
   "execution_count": 14,
   "metadata": {
    "collapsed": false
   },
   "outputs": [
    {
     "data": {
      "text/plain": [
       "PCA(copy=True, n_components=8, whiten=True)"
      ]
     },
     "execution_count": 14,
     "metadata": {},
     "output_type": "execute_result"
    }
   ],
   "source": [
    "# pca with max components (number of features)\n",
    "n_pc = X_train.shape[1]\n",
    "\n",
    "pca = PCA(n_components=n_pc, whiten=True)\n",
    "pca.fit(X_train_std)"
   ]
  },
  {
   "cell_type": "code",
   "execution_count": 15,
   "metadata": {
    "collapsed": false
   },
   "outputs": [
    {
     "data": {
      "text/plain": [
       "array([ 0.31193517,  0.1905221 ,  0.14766537,  0.11066947,  0.09482265,\n",
       "        0.05998193,  0.04522802,  0.03917528])"
      ]
     },
     "execution_count": 15,
     "metadata": {},
     "output_type": "execute_result"
    }
   ],
   "source": [
    "# the first 5 components explain over 80% of the variance\n",
    "pca.explained_variance_ratio_"
   ]
  },
  {
   "cell_type": "code",
   "execution_count": 16,
   "metadata": {
    "collapsed": false,
    "scrolled": false
   },
   "outputs": [
    {
     "data": {
      "text/plain": [
       "[<matplotlib.lines.Line2D at 0x10c5c5390>]"
      ]
     },
     "execution_count": 16,
     "metadata": {},
     "output_type": "execute_result"
    },
    {
     "data": {
      "image/png": "[encoded data removed]",
      "text/plain": [
       "<matplotlib.figure.Figure at 0x10c46be10>"
      ]
     },
     "metadata": {},
     "output_type": "display_data"
    }
   ],
   "source": [
    "# plot the explained variance ratio\n",
    "plt.plot(range(n_pc), pca.explained_variance_ratio_)"
   ]
  },
  {
   "cell_type": "code",
   "execution_count": 17,
   "metadata": {
    "collapsed": false,
    "scrolled": false
   },
   "outputs": [
    {
     "data": {
      "text/html": [
       "<div>\n",
       "<table border=\"1\" class=\"dataframe\">\n",
       "  <thead>\n",
       "    <tr style=\"text-align: right;\">\n",
       "      <th></th>\n",
       "      <th>preg</th>\n",
       "      <th>glucose</th>\n",
       "      <th>dbp</th>\n",
       "      <th>tsf</th>\n",
       "      <th>insulin</th>\n",
       "      <th>bmi</th>\n",
       "      <th>pedigree</th>\n",
       "      <th>age</th>\n",
       "    </tr>\n",
       "  </thead>\n",
       "  <tbody>\n",
       "    <tr>\n",
       "      <th>0</th>\n",
       "      <td>0.313</td>\n",
       "      <td>0.417</td>\n",
       "      <td>0.342</td>\n",
       "      <td>0.379</td>\n",
       "      <td>0.326</td>\n",
       "      <td>0.368</td>\n",
       "      <td>0.235</td>\n",
       "      <td>0.414</td>\n",
       "    </tr>\n",
       "    <tr>\n",
       "      <th>1</th>\n",
       "      <td>-0.541</td>\n",
       "      <td>0.013</td>\n",
       "      <td>-0.145</td>\n",
       "      <td>0.402</td>\n",
       "      <td>0.115</td>\n",
       "      <td>0.476</td>\n",
       "      <td>0.216</td>\n",
       "      <td>-0.489</td>\n",
       "    </tr>\n",
       "    <tr>\n",
       "      <th>2</th>\n",
       "      <td>0.189</td>\n",
       "      <td>-0.483</td>\n",
       "      <td>0.300</td>\n",
       "      <td>0.351</td>\n",
       "      <td>-0.610</td>\n",
       "      <td>0.327</td>\n",
       "      <td>-0.187</td>\n",
       "      <td>0.070</td>\n",
       "    </tr>\n",
       "    <tr>\n",
       "      <th>3</th>\n",
       "      <td>-0.182</td>\n",
       "      <td>0.155</td>\n",
       "      <td>0.279</td>\n",
       "      <td>0.000</td>\n",
       "      <td>0.281</td>\n",
       "      <td>0.120</td>\n",
       "      <td>-0.875</td>\n",
       "      <td>-0.080</td>\n",
       "    </tr>\n",
       "    <tr>\n",
       "      <th>4</th>\n",
       "      <td>0.347</td>\n",
       "      <td>-0.002</td>\n",
       "      <td>-0.796</td>\n",
       "      <td>0.361</td>\n",
       "      <td>0.073</td>\n",
       "      <td>0.080</td>\n",
       "      <td>-0.302</td>\n",
       "      <td>0.111</td>\n",
       "    </tr>\n",
       "    <tr>\n",
       "      <th>5</th>\n",
       "      <td>-0.134</td>\n",
       "      <td>0.737</td>\n",
       "      <td>-0.064</td>\n",
       "      <td>0.087</td>\n",
       "      <td>-0.640</td>\n",
       "      <td>-0.102</td>\n",
       "      <td>-0.079</td>\n",
       "      <td>-0.027</td>\n",
       "    </tr>\n",
       "    <tr>\n",
       "      <th>6</th>\n",
       "      <td>-0.508</td>\n",
       "      <td>-0.156</td>\n",
       "      <td>0.026</td>\n",
       "      <td>0.490</td>\n",
       "      <td>0.052</td>\n",
       "      <td>-0.497</td>\n",
       "      <td>-0.008</td>\n",
       "      <td>0.477</td>\n",
       "    </tr>\n",
       "    <tr>\n",
       "      <th>7</th>\n",
       "      <td>-0.380</td>\n",
       "      <td>-0.044</td>\n",
       "      <td>-0.235</td>\n",
       "      <td>-0.441</td>\n",
       "      <td>-0.109</td>\n",
       "      <td>0.503</td>\n",
       "      <td>-0.022</td>\n",
       "      <td>0.582</td>\n",
       "    </tr>\n",
       "  </tbody>\n",
       "</table>\n",
       "</div>"
      ],
      "text/plain": [
       "    preg  glucose    dbp    tsf  insulin    bmi  pedigree    age\n",
       "0  0.313    0.417  0.342  0.379    0.326  0.368     0.235  0.414\n",
       "1 -0.541    0.013 -0.145  0.402    0.115  0.476     0.216 -0.489\n",
       "2  0.189   -0.483  0.300  0.351   -0.610  0.327    -0.187  0.070\n",
       "3 -0.182    0.155  0.279  0.000    0.281  0.120    -0.875 -0.080\n",
       "4  0.347   -0.002 -0.796  0.361    0.073  0.080    -0.302  0.111\n",
       "5 -0.134    0.737 -0.064  0.087   -0.640 -0.102    -0.079 -0.027\n",
       "6 -0.508   -0.156  0.026  0.490    0.052 -0.497    -0.008  0.477\n",
       "7 -0.380   -0.044 -0.235 -0.441   -0.109  0.503    -0.022  0.582"
      ]
     },
     "execution_count": 17,
     "metadata": {},
     "output_type": "execute_result"
    }
   ],
   "source": [
    "pd.DataFrame(pca.components_, columns=X.columns)"
   ]
  },
  {
   "cell_type": "markdown",
   "metadata": {},
   "source": [
    "5. Use the cluster outputs you got from running k-means as a new feature. Rerun your \"worst\" and \"best\" model from HW2, including this new feature along with your old features. Describe your results.\n",
    "=="
   ]
  },
  {
   "cell_type": "code",
   "execution_count": 18,
   "metadata": {
    "collapsed": false
   },
   "outputs": [],
   "source": [
    "# append the labels to a new k means dataframe\n",
    "X_train_km = X_train.copy()\n",
    "X_train_km['labels'] = km.labels_\n",
    "\n",
    "# fit the test data to the clusters\n",
    "X_test_km = X_test.copy()\n",
    "X_test_km['labels'] = km.predict(X_test_std)"
   ]
  },
  {
   "cell_type": "code",
   "execution_count": 19,
   "metadata": {
    "collapsed": true
   },
   "outputs": [],
   "source": [
    "# 10 cross validation iterations with 20% test / 80% train\n",
    "from sklearn.cross_validation import ShuffleSplit\n",
    "cv = ShuffleSplit(X_train.shape[0], n_iter=10, test_size=0.2, random_state=0)"
   ]
  },
  {
   "cell_type": "code",
   "execution_count": 20,
   "metadata": {
    "collapsed": true
   },
   "outputs": [],
   "source": [
    "# import model metrics tools\n",
    "from sklearn.metrics import classification_report\n",
    "from sklearn.cross_validation import cross_val_score\n",
    "from sklearn.grid_search import GridSearchCV"
   ]
  },
  {
   "cell_type": "code",
   "execution_count": 21,
   "metadata": {
    "collapsed": false,
    "scrolled": true
   },
   "outputs": [
    {
     "data": {
      "text/html": [
       "<div>\n",
       "<table border=\"1\" class=\"dataframe\">\n",
       "  <thead>\n",
       "    <tr style=\"text-align: right;\">\n",
       "      <th></th>\n",
       "      <th>preg</th>\n",
       "      <th>glucose</th>\n",
       "      <th>dbp</th>\n",
       "      <th>tsf</th>\n",
       "      <th>insulin</th>\n",
       "      <th>bmi</th>\n",
       "      <th>pedigree</th>\n",
       "      <th>age</th>\n",
       "      <th>labels</th>\n",
       "    </tr>\n",
       "  </thead>\n",
       "  <tbody>\n",
       "    <tr>\n",
       "      <th>count</th>\n",
       "      <td>425.000</td>\n",
       "      <td>425.000</td>\n",
       "      <td>425.000</td>\n",
       "      <td>425.000</td>\n",
       "      <td>425.000</td>\n",
       "      <td>425.000</td>\n",
       "      <td>425.000</td>\n",
       "      <td>425.000</td>\n",
       "      <td>425.000</td>\n",
       "    </tr>\n",
       "    <tr>\n",
       "      <th>mean</th>\n",
       "      <td>3.579</td>\n",
       "      <td>122.021</td>\n",
       "      <td>71.675</td>\n",
       "      <td>29.358</td>\n",
       "      <td>160.139</td>\n",
       "      <td>32.945</td>\n",
       "      <td>0.499</td>\n",
       "      <td>31.901</td>\n",
       "      <td>0.412</td>\n",
       "    </tr>\n",
       "    <tr>\n",
       "      <th>std</th>\n",
       "      <td>3.361</td>\n",
       "      <td>30.996</td>\n",
       "      <td>12.117</td>\n",
       "      <td>10.427</td>\n",
       "      <td>104.905</td>\n",
       "      <td>6.902</td>\n",
       "      <td>0.348</td>\n",
       "      <td>10.985</td>\n",
       "      <td>0.493</td>\n",
       "    </tr>\n",
       "    <tr>\n",
       "      <th>min</th>\n",
       "      <td>0.000</td>\n",
       "      <td>56.000</td>\n",
       "      <td>30.000</td>\n",
       "      <td>7.000</td>\n",
       "      <td>14.000</td>\n",
       "      <td>18.200</td>\n",
       "      <td>0.085</td>\n",
       "      <td>21.000</td>\n",
       "      <td>0.000</td>\n",
       "    </tr>\n",
       "    <tr>\n",
       "      <th>25%</th>\n",
       "      <td>1.000</td>\n",
       "      <td>99.000</td>\n",
       "      <td>64.000</td>\n",
       "      <td>22.000</td>\n",
       "      <td>99.000</td>\n",
       "      <td>28.000</td>\n",
       "      <td>0.255</td>\n",
       "      <td>24.000</td>\n",
       "      <td>0.000</td>\n",
       "    </tr>\n",
       "    <tr>\n",
       "      <th>50%</th>\n",
       "      <td>2.000</td>\n",
       "      <td>117.000</td>\n",
       "      <td>72.000</td>\n",
       "      <td>30.000</td>\n",
       "      <td>160.139</td>\n",
       "      <td>33.100</td>\n",
       "      <td>0.412</td>\n",
       "      <td>28.000</td>\n",
       "      <td>0.000</td>\n",
       "    </tr>\n",
       "    <tr>\n",
       "      <th>75%</th>\n",
       "      <td>6.000</td>\n",
       "      <td>143.000</td>\n",
       "      <td>80.000</td>\n",
       "      <td>36.000</td>\n",
       "      <td>166.000</td>\n",
       "      <td>36.900</td>\n",
       "      <td>0.647</td>\n",
       "      <td>38.000</td>\n",
       "      <td>1.000</td>\n",
       "    </tr>\n",
       "    <tr>\n",
       "      <th>max</th>\n",
       "      <td>17.000</td>\n",
       "      <td>198.000</td>\n",
       "      <td>110.000</td>\n",
       "      <td>99.000</td>\n",
       "      <td>846.000</td>\n",
       "      <td>67.100</td>\n",
       "      <td>2.420</td>\n",
       "      <td>81.000</td>\n",
       "      <td>1.000</td>\n",
       "    </tr>\n",
       "  </tbody>\n",
       "</table>\n",
       "</div>"
      ],
      "text/plain": [
       "         preg  glucose     dbp     tsf  insulin     bmi  pedigree     age  \\\n",
       "count 425.000  425.000 425.000 425.000  425.000 425.000   425.000 425.000   \n",
       "mean    3.579  122.021  71.675  29.358  160.139  32.945     0.499  31.901   \n",
       "std     3.361   30.996  12.117  10.427  104.905   6.902     0.348  10.985   \n",
       "min     0.000   56.000  30.000   7.000   14.000  18.200     0.085  21.000   \n",
       "25%     1.000   99.000  64.000  22.000   99.000  28.000     0.255  24.000   \n",
       "50%     2.000  117.000  72.000  30.000  160.139  33.100     0.412  28.000   \n",
       "75%     6.000  143.000  80.000  36.000  166.000  36.900     0.647  38.000   \n",
       "max    17.000  198.000 110.000  99.000  846.000  67.100     2.420  81.000   \n",
       "\n",
       "       labels  \n",
       "count 425.000  \n",
       "mean    0.412  \n",
       "std     0.493  \n",
       "min     0.000  \n",
       "25%     0.000  \n",
       "50%     0.000  \n",
       "75%     1.000  \n",
       "max     1.000  "
      ]
     },
     "execution_count": 21,
     "metadata": {},
     "output_type": "execute_result"
    }
   ],
   "source": [
    "# use the new data with the labels added\n",
    "X_train_km.describe()"
   ]
  },
  {
   "cell_type": "code",
   "execution_count": 22,
   "metadata": {
    "collapsed": true
   },
   "outputs": [],
   "source": [
    "# standardize the new text and train\n",
    "X_train_std_km = stdsc.fit_transform(X_train_km)\n",
    "# transform the testing features in the same way\n",
    "X_test_std_km = stdsc.transform(X_test_km)"
   ]
  },
  {
   "cell_type": "markdown",
   "metadata": {},
   "source": [
    "Try \"worst\" performing model from HW2 solutions:\n",
    "\n",
    "Gaussian Naive Bayes\n",
    "* 75.7% accuracy, 67.9% recall, 59.4% f1\n",
    "* 405 µs per loop\n",
    "     "
   ]
  },
  {
   "cell_type": "code",
   "execution_count": 23,
   "metadata": {
    "collapsed": false
   },
   "outputs": [
    {
     "data": {
      "text/plain": [
       "GaussianNB()"
      ]
     },
     "execution_count": 23,
     "metadata": {},
     "output_type": "execute_result"
    }
   ],
   "source": [
    "from sklearn.naive_bayes import GaussianNB\n",
    "gnb = GaussianNB()\n",
    "gnb.fit(X_train_std_km, y_train)"
   ]
  },
  {
   "cell_type": "code",
   "execution_count": 24,
   "metadata": {
    "collapsed": false,
    "scrolled": false
   },
   "outputs": [
    {
     "name": "stdout",
     "output_type": "stream",
     "text": [
      "             precision    recall  f1-score   support\n",
      "\n",
      "          0       0.80      0.80      0.80        71\n",
      "          1       0.61      0.61      0.61        36\n",
      "\n",
      "avg / total       0.74      0.74      0.74       107\n",
      "\n",
      "CV score [ 0.70588235  0.68235294  0.74117647  0.70588235  0.8         0.77647059\n",
      "  0.69411765  0.70588235  0.65882353  0.65882353], Average score 0.712941176471\n"
     ]
    },
    {
     "data": {
      "text/plain": [
       "0.73831775700934577"
      ]
     },
     "execution_count": 24,
     "metadata": {},
     "output_type": "execute_result"
    }
   ],
   "source": [
    "print classification_report(gnb.predict(X_test_std_km), y_test)\n",
    "scores = cross_val_score(gnb, X_train_std_km, y_train, cv=cv)\n",
    "print('CV score {}, Average score {}'.format(scores, scores.mean()))\n",
    "gnb.score(X_test_std_km, y_test)"
   ]
  },
  {
   "cell_type": "code",
   "execution_count": 25,
   "metadata": {
    "collapsed": false
   },
   "outputs": [],
   "source": [
    "from sklearn.metrics import precision_recall_fscore_support\n",
    "from sklearn.metrics import accuracy_score\n",
    "\n",
    "metrics = list(precision_recall_fscore_support(gnb.predict(X_test_std_km), y_test, average='binary'))[:3]\n",
    "metrics.append(accuracy_score(gnb.predict(X_test_std_km), y_test))"
   ]
  },
  {
   "cell_type": "code",
   "execution_count": 26,
   "metadata": {
    "collapsed": false
   },
   "outputs": [
    {
     "name": "stdout",
     "output_type": "stream",
     "text": [
      "1000 loops, best of 3: 425 µs per loop\n"
     ]
    }
   ],
   "source": [
    "t = %timeit -o gnb.fit(X_train_std_km, y_train)\n",
    "metrics.append(t.best)"
   ]
  },
  {
   "cell_type": "code",
   "execution_count": 27,
   "metadata": {
    "collapsed": false
   },
   "outputs": [],
   "source": [
    "# display 6 decimals\n",
    "pd.set_option('display.float_format', lambda x: '%.6f' % x)"
   ]
  },
  {
   "cell_type": "code",
   "execution_count": 28,
   "metadata": {
    "collapsed": false
   },
   "outputs": [
    {
     "data": {
      "text/html": [
       "<div>\n",
       "<table border=\"1\" class=\"dataframe\">\n",
       "  <thead>\n",
       "    <tr style=\"text-align: right;\">\n",
       "      <th></th>\n",
       "      <th>km_gnb</th>\n",
       "    </tr>\n",
       "  </thead>\n",
       "  <tbody>\n",
       "    <tr>\n",
       "      <th>precision</th>\n",
       "      <td>0.611111</td>\n",
       "    </tr>\n",
       "    <tr>\n",
       "      <th>recall</th>\n",
       "      <td>0.611111</td>\n",
       "    </tr>\n",
       "    <tr>\n",
       "      <th>fscore</th>\n",
       "      <td>0.611111</td>\n",
       "    </tr>\n",
       "    <tr>\n",
       "      <th>accuracy</th>\n",
       "      <td>0.738318</td>\n",
       "    </tr>\n",
       "    <tr>\n",
       "      <th>time</th>\n",
       "      <td>0.000425</td>\n",
       "    </tr>\n",
       "  </tbody>\n",
       "</table>\n",
       "</div>"
      ],
      "text/plain": [
       "            km_gnb\n",
       "precision 0.611111\n",
       "recall    0.611111\n",
       "fscore    0.611111\n",
       "accuracy  0.738318\n",
       "time      0.000425"
      ]
     },
     "execution_count": 28,
     "metadata": {},
     "output_type": "execute_result"
    }
   ],
   "source": [
    "model_stats = pd.DataFrame(metrics,columns=['km_gnb'],index=['precision','recall','fscore','accuracy','time'])\n",
    "model_stats"
   ]
  },
  {
   "cell_type": "code",
   "execution_count": 29,
   "metadata": {
    "collapsed": false
   },
   "outputs": [
    {
     "data": {
      "image/png": "[encoded data removed]",
      "text/plain": [
       "<matplotlib.figure.Figure at 0x10c602550>"
      ]
     },
     "metadata": {},
     "output_type": "display_data"
    }
   ],
   "source": [
    "from sk_modelcurves.learning_curve import draw_learning_curve\n",
    "draw_learning_curve(gnb, X_train_std_km, y_train, cv=cv);"
   ]
  },
  {
   "cell_type": "code",
   "execution_count": 30,
   "metadata": {
    "collapsed": false,
    "scrolled": false
   },
   "outputs": [
    {
     "data": {
      "text/html": [
       "<div>\n",
       "<table border=\"1\" class=\"dataframe\">\n",
       "  <thead>\n",
       "    <tr style=\"text-align: right;\">\n",
       "      <th></th>\n",
       "      <th>preg</th>\n",
       "      <th>glucose</th>\n",
       "      <th>dbp</th>\n",
       "      <th>tsf</th>\n",
       "      <th>insulin</th>\n",
       "      <th>bmi</th>\n",
       "      <th>pedigree</th>\n",
       "      <th>age</th>\n",
       "      <th>labels</th>\n",
       "    </tr>\n",
       "  </thead>\n",
       "  <tbody>\n",
       "    <tr>\n",
       "      <th>preg</th>\n",
       "      <td>1.000000</td>\n",
       "      <td>0.167729</td>\n",
       "      <td>0.226610</td>\n",
       "      <td>0.094622</td>\n",
       "      <td>0.042267</td>\n",
       "      <td>0.007284</td>\n",
       "      <td>0.035493</td>\n",
       "      <td>0.627977</td>\n",
       "      <td>0.482368</td>\n",
       "    </tr>\n",
       "    <tr>\n",
       "      <th>glucose</th>\n",
       "      <td>0.167729</td>\n",
       "      <td>1.000000</td>\n",
       "      <td>0.200732</td>\n",
       "      <td>0.210445</td>\n",
       "      <td>0.499588</td>\n",
       "      <td>0.206865</td>\n",
       "      <td>0.208571</td>\n",
       "      <td>0.324960</td>\n",
       "      <td>0.554583</td>\n",
       "    </tr>\n",
       "    <tr>\n",
       "      <th>dbp</th>\n",
       "      <td>0.226610</td>\n",
       "      <td>0.200732</td>\n",
       "      <td>1.000000</td>\n",
       "      <td>0.175312</td>\n",
       "      <td>0.090188</td>\n",
       "      <td>0.267309</td>\n",
       "      <td>0.057604</td>\n",
       "      <td>0.361651</td>\n",
       "      <td>0.498863</td>\n",
       "    </tr>\n",
       "    <tr>\n",
       "      <th>tsf</th>\n",
       "      <td>0.094622</td>\n",
       "      <td>0.210445</td>\n",
       "      <td>0.175312</td>\n",
       "      <td>1.000000</td>\n",
       "      <td>0.143510</td>\n",
       "      <td>0.634636</td>\n",
       "      <td>0.192583</td>\n",
       "      <td>0.154310</td>\n",
       "      <td>0.418839</td>\n",
       "    </tr>\n",
       "    <tr>\n",
       "      <th>insulin</th>\n",
       "      <td>0.042267</td>\n",
       "      <td>0.499588</td>\n",
       "      <td>0.090188</td>\n",
       "      <td>0.143510</td>\n",
       "      <td>1.000000</td>\n",
       "      <td>0.186528</td>\n",
       "      <td>0.154147</td>\n",
       "      <td>0.183792</td>\n",
       "      <td>0.401792</td>\n",
       "    </tr>\n",
       "    <tr>\n",
       "      <th>bmi</th>\n",
       "      <td>0.007284</td>\n",
       "      <td>0.206865</td>\n",
       "      <td>0.267309</td>\n",
       "      <td>0.634636</td>\n",
       "      <td>0.186528</td>\n",
       "      <td>1.000000</td>\n",
       "      <td>0.190740</td>\n",
       "      <td>0.057776</td>\n",
       "      <td>0.385908</td>\n",
       "    </tr>\n",
       "    <tr>\n",
       "      <th>pedigree</th>\n",
       "      <td>0.035493</td>\n",
       "      <td>0.208571</td>\n",
       "      <td>0.057604</td>\n",
       "      <td>0.192583</td>\n",
       "      <td>0.154147</td>\n",
       "      <td>0.190740</td>\n",
       "      <td>1.000000</td>\n",
       "      <td>0.098406</td>\n",
       "      <td>0.267993</td>\n",
       "    </tr>\n",
       "    <tr>\n",
       "      <th>age</th>\n",
       "      <td>0.627977</td>\n",
       "      <td>0.324960</td>\n",
       "      <td>0.361651</td>\n",
       "      <td>0.154310</td>\n",
       "      <td>0.183792</td>\n",
       "      <td>0.057776</td>\n",
       "      <td>0.098406</td>\n",
       "      <td>1.000000</td>\n",
       "      <td>0.630651</td>\n",
       "    </tr>\n",
       "    <tr>\n",
       "      <th>labels</th>\n",
       "      <td>0.482368</td>\n",
       "      <td>0.554583</td>\n",
       "      <td>0.498863</td>\n",
       "      <td>0.418839</td>\n",
       "      <td>0.401792</td>\n",
       "      <td>0.385908</td>\n",
       "      <td>0.267993</td>\n",
       "      <td>0.630651</td>\n",
       "      <td>1.000000</td>\n",
       "    </tr>\n",
       "  </tbody>\n",
       "</table>\n",
       "</div>"
      ],
      "text/plain": [
       "             preg  glucose      dbp      tsf  insulin      bmi  pedigree  \\\n",
       "preg     1.000000 0.167729 0.226610 0.094622 0.042267 0.007284  0.035493   \n",
       "glucose  0.167729 1.000000 0.200732 0.210445 0.499588 0.206865  0.208571   \n",
       "dbp      0.226610 0.200732 1.000000 0.175312 0.090188 0.267309  0.057604   \n",
       "tsf      0.094622 0.210445 0.175312 1.000000 0.143510 0.634636  0.192583   \n",
       "insulin  0.042267 0.499588 0.090188 0.143510 1.000000 0.186528  0.154147   \n",
       "bmi      0.007284 0.206865 0.267309 0.634636 0.186528 1.000000  0.190740   \n",
       "pedigree 0.035493 0.208571 0.057604 0.192583 0.154147 0.190740  1.000000   \n",
       "age      0.627977 0.324960 0.361651 0.154310 0.183792 0.057776  0.098406   \n",
       "labels   0.482368 0.554583 0.498863 0.418839 0.401792 0.385908  0.267993   \n",
       "\n",
       "              age   labels  \n",
       "preg     0.627977 0.482368  \n",
       "glucose  0.324960 0.554583  \n",
       "dbp      0.361651 0.498863  \n",
       "tsf      0.154310 0.418839  \n",
       "insulin  0.183792 0.401792  \n",
       "bmi      0.057776 0.385908  \n",
       "pedigree 0.098406 0.267993  \n",
       "age      1.000000 0.630651  \n",
       "labels   0.630651 1.000000  "
      ]
     },
     "execution_count": 30,
     "metadata": {},
     "output_type": "execute_result"
    }
   ],
   "source": [
    "# the new feature has high correlation with several features, and seems ot hurt NB\n",
    "X_train_km.corr()"
   ]
  },
  {
   "cell_type": "markdown",
   "metadata": {},
   "source": [
    "Try \"best\" performing model from HW2 solutions:\n",
    "\n",
    "Logistic Regression\n",
    "* 78.5% accuracy, 84.2% recall, 58.2% f1\n",
    "* 612 µs per loop"
   ]
  },
  {
   "cell_type": "code",
   "execution_count": 31,
   "metadata": {
    "collapsed": false
   },
   "outputs": [
    {
     "data": {
      "text/plain": [
       "GridSearchCV(cv=ShuffleSplit(425, n_iter=10, test_size=0.2, random_state=0),\n",
       "       error_score='raise',\n",
       "       estimator=LogisticRegression(C=1.0, class_weight=None, dual=False, fit_intercept=True,\n",
       "          intercept_scaling=1, max_iter=100, multi_class='ovr', n_jobs=1,\n",
       "          penalty='l2', random_state=None, solver='liblinear', tol=0.0001,\n",
       "          verbose=0, warm_start=False),\n",
       "       fit_params={}, iid=True, n_jobs=1,\n",
       "       param_grid={'penalty': ['l1', 'l2'], 'C': array([ 0.1    ,  0.13878,  0.17755,  0.21633,  0.2551 ,  0.29388,\n",
       "        0.33265,  0.37143,  0.4102 ,  0.44898,  0.48776,  0.52653,\n",
       "        0.56531,  0.60408,  0.64286,  0.68163,  0.72041,  0.75918,\n",
       "        0.79796,  0.83673,  0.87551,  0.91429,  0.95306, ...98 ,\n",
       "        1.72857,  1.76735,  1.80612,  1.8449 ,  1.88367,  1.92245,\n",
       "        1.96122,  2.     ])},\n",
       "       pre_dispatch='2*n_jobs', refit=True, scoring=None, verbose=0)"
      ]
     },
     "execution_count": 31,
     "metadata": {},
     "output_type": "execute_result"
    }
   ],
   "source": [
    "# Logistic Regression with ridge and lasso\n",
    "from sklearn.linear_model import LogisticRegression\n",
    "logreg = LogisticRegression()\n",
    "parameters = {'penalty': ['l1','l2'], 'C':np.linspace(0.1,2.0,50)}\n",
    "clf = GridSearchCV(logreg, parameters, cv=cv)\n",
    "clf.fit(X_train_std_km, y_train)"
   ]
  },
  {
   "cell_type": "code",
   "execution_count": 32,
   "metadata": {
    "collapsed": false
   },
   "outputs": [
    {
     "data": {
      "text/plain": [
       "{'C': 0.17755102040816328, 'penalty': 'l1'}"
      ]
     },
     "execution_count": 32,
     "metadata": {},
     "output_type": "execute_result"
    }
   ],
   "source": [
    "# get the best performing combo\n",
    "clf.best_params_"
   ]
  },
  {
   "cell_type": "code",
   "execution_count": 33,
   "metadata": {
    "collapsed": true
   },
   "outputs": [],
   "source": [
    "best_logreg = clf.best_estimator_"
   ]
  },
  {
   "cell_type": "code",
   "execution_count": 34,
   "metadata": {
    "collapsed": false
   },
   "outputs": [
    {
     "data": {
      "text/html": [
       "<div>\n",
       "<table border=\"1\" class=\"dataframe\">\n",
       "  <thead>\n",
       "    <tr style=\"text-align: right;\">\n",
       "      <th></th>\n",
       "      <th>coefs</th>\n",
       "      <th>features</th>\n",
       "    </tr>\n",
       "  </thead>\n",
       "  <tbody>\n",
       "    <tr>\n",
       "      <th>1</th>\n",
       "      <td>0.879722</td>\n",
       "      <td>glucose</td>\n",
       "    </tr>\n",
       "    <tr>\n",
       "      <th>5</th>\n",
       "      <td>0.288875</td>\n",
       "      <td>bmi</td>\n",
       "    </tr>\n",
       "    <tr>\n",
       "      <th>6</th>\n",
       "      <td>0.273193</td>\n",
       "      <td>pedigree</td>\n",
       "    </tr>\n",
       "    <tr>\n",
       "      <th>7</th>\n",
       "      <td>0.261794</td>\n",
       "      <td>age</td>\n",
       "    </tr>\n",
       "    <tr>\n",
       "      <th>0</th>\n",
       "      <td>0.235793</td>\n",
       "      <td>preg</td>\n",
       "    </tr>\n",
       "    <tr>\n",
       "      <th>8</th>\n",
       "      <td>0.133552</td>\n",
       "      <td>labels</td>\n",
       "    </tr>\n",
       "    <tr>\n",
       "      <th>3</th>\n",
       "      <td>0.117462</td>\n",
       "      <td>tsf</td>\n",
       "    </tr>\n",
       "    <tr>\n",
       "      <th>4</th>\n",
       "      <td>0.000000</td>\n",
       "      <td>insulin</td>\n",
       "    </tr>\n",
       "    <tr>\n",
       "      <th>2</th>\n",
       "      <td>-0.029324</td>\n",
       "      <td>dbp</td>\n",
       "    </tr>\n",
       "  </tbody>\n",
       "</table>\n",
       "</div>"
      ],
      "text/plain": [
       "      coefs  features\n",
       "1  0.879722   glucose\n",
       "5  0.288875       bmi\n",
       "6  0.273193  pedigree\n",
       "7  0.261794       age\n",
       "0  0.235793      preg\n",
       "8  0.133552    labels\n",
       "3  0.117462       tsf\n",
       "4  0.000000   insulin\n",
       "2 -0.029324       dbp"
      ]
     },
     "execution_count": 34,
     "metadata": {},
     "output_type": "execute_result"
    }
   ],
   "source": [
    "# see which coefficients have the biggest weights\n",
    "pd.DataFrame({'features': X_train_km.columns, 'coefs': best_logreg.coef_[0]}).sort_values(by='coefs',ascending=False)"
   ]
  },
  {
   "cell_type": "code",
   "execution_count": 35,
   "metadata": {
    "collapsed": false,
    "scrolled": false
   },
   "outputs": [
    {
     "name": "stdout",
     "output_type": "stream",
     "text": [
      "             precision    recall  f1-score   support\n",
      "\n",
      "          0       0.94      0.78      0.85        86\n",
      "          1       0.47      0.81      0.60        21\n",
      "\n",
      "avg / total       0.85      0.79      0.80       107\n",
      "\n",
      "CV score [ 0.71764706  0.77647059  0.76470588  0.71764706  0.8         0.76470588\n",
      "  0.74117647  0.71764706  0.71764706  0.72941176], Average score 0.744705882353\n"
     ]
    },
    {
     "data": {
      "text/plain": [
       "0.78504672897196259"
      ]
     },
     "execution_count": 35,
     "metadata": {},
     "output_type": "execute_result"
    }
   ],
   "source": [
    "print classification_report(best_logreg.predict(X_test_std_km), y_test)\n",
    "scores = cross_val_score(best_logreg, X_train_std_km, y_train, cv=cv)\n",
    "print('CV score {}, Average score {}'.format(scores, scores.mean()))\n",
    "best_logreg.score(X_test_std_km, y_test)"
   ]
  },
  {
   "cell_type": "code",
   "execution_count": 36,
   "metadata": {
    "collapsed": true
   },
   "outputs": [],
   "source": [
    "metrics = list(precision_recall_fscore_support(best_logreg.predict(X_test_std_km), y_test, average='binary'))[:3]\n",
    "metrics.append(accuracy_score(best_logreg.predict(X_test_std_km), y_test))"
   ]
  },
  {
   "cell_type": "code",
   "execution_count": 37,
   "metadata": {
    "collapsed": false
   },
   "outputs": [
    {
     "name": "stdout",
     "output_type": "stream",
     "text": [
      "100 loops, best of 3: 851 µs per loop\n"
     ]
    }
   ],
   "source": [
    "t = %timeit -o best_logreg.fit(X_train_std_km, y_train)"
   ]
  },
  {
   "cell_type": "code",
   "execution_count": 38,
   "metadata": {
    "collapsed": false
   },
   "outputs": [
    {
     "data": {
      "text/html": [
       "<div>\n",
       "<table border=\"1\" class=\"dataframe\">\n",
       "  <thead>\n",
       "    <tr style=\"text-align: right;\">\n",
       "      <th></th>\n",
       "      <th>km_gnb</th>\n",
       "      <th>km_logreg</th>\n",
       "    </tr>\n",
       "  </thead>\n",
       "  <tbody>\n",
       "    <tr>\n",
       "      <th>precision</th>\n",
       "      <td>0.611111</td>\n",
       "      <td>0.472222</td>\n",
       "    </tr>\n",
       "    <tr>\n",
       "      <th>recall</th>\n",
       "      <td>0.611111</td>\n",
       "      <td>0.809524</td>\n",
       "    </tr>\n",
       "    <tr>\n",
       "      <th>fscore</th>\n",
       "      <td>0.611111</td>\n",
       "      <td>0.596491</td>\n",
       "    </tr>\n",
       "    <tr>\n",
       "      <th>accuracy</th>\n",
       "      <td>0.738318</td>\n",
       "      <td>0.785047</td>\n",
       "    </tr>\n",
       "    <tr>\n",
       "      <th>time</th>\n",
       "      <td>0.000425</td>\n",
       "      <td>0.000851</td>\n",
       "    </tr>\n",
       "  </tbody>\n",
       "</table>\n",
       "</div>"
      ],
      "text/plain": [
       "            km_gnb  km_logreg\n",
       "precision 0.611111   0.472222\n",
       "recall    0.611111   0.809524\n",
       "fscore    0.611111   0.596491\n",
       "accuracy  0.738318   0.785047\n",
       "time      0.000425   0.000851"
      ]
     },
     "execution_count": 38,
     "metadata": {},
     "output_type": "execute_result"
    }
   ],
   "source": [
    "metrics.append(t.best)\n",
    "model_stats['km_logreg'] = metrics\n",
    "model_stats"
   ]
  },
  {
   "cell_type": "code",
   "execution_count": 39,
   "metadata": {
    "collapsed": false,
    "scrolled": true
   },
   "outputs": [
    {
     "data": {
      "image/png": "[encoded data removed]",
      "text/plain": [
       "<matplotlib.figure.Figure at 0x10c65edd0>"
      ]
     },
     "metadata": {},
     "output_type": "display_data"
    }
   ],
   "source": [
    "draw_learning_curve(best_logreg, X_train_std_km, y_train, cv=cv);"
   ]
  },
  {
   "cell_type": "code",
   "execution_count": 40,
   "metadata": {
    "collapsed": false
   },
   "outputs": [
    {
     "data": {
      "text/plain": [
       "GridSearchCV(cv=None, error_score='raise',\n",
       "       estimator=RandomForestClassifier(bootstrap=True, class_weight=None, criterion='gini',\n",
       "            max_depth=None, max_features='auto', max_leaf_nodes=None,\n",
       "            min_samples_leaf=1, min_samples_split=2,\n",
       "            min_weight_fraction_leaf=0.0, n_estimators=10, n_jobs=1,\n",
       "            oob_score=False, random_state=1, verbose=0, warm_start=False),\n",
       "       fit_params={}, iid=True, n_jobs=1,\n",
       "       param_grid={'n_estimators': [20, 22, 24, 26, 28, 30, 32, 34, 36, 38, 40, 42, 44, 46, 48], 'min_samples_split': [2, 3, 4, 5, 6, 7, 8, 9], 'min_samples_leaf': [1, 2]},\n",
       "       pre_dispatch='2*n_jobs', refit=True, scoring=None, verbose=0)"
      ]
     },
     "execution_count": 40,
     "metadata": {},
     "output_type": "execute_result"
    }
   ],
   "source": [
    "# try random forest\n",
    "from sklearn.ensemble import RandomForestClassifier\n",
    "rf = RandomForestClassifier(random_state=1)\n",
    "parameters = {'n_estimators':range(20,50,2), 'min_samples_split':range(2,10),'min_samples_leaf':range(1,3)}\n",
    "clf = GridSearchCV(rf, parameters)\n",
    "clf.fit(X_train_std_km, y_train)"
   ]
  },
  {
   "cell_type": "code",
   "execution_count": 41,
   "metadata": {
    "collapsed": false
   },
   "outputs": [
    {
     "data": {
      "text/plain": [
       "{'min_samples_leaf': 1, 'min_samples_split': 9, 'n_estimators': 44}"
      ]
     },
     "execution_count": 41,
     "metadata": {},
     "output_type": "execute_result"
    }
   ],
   "source": [
    "# get the best performing combo\n",
    "clf.best_params_"
   ]
  },
  {
   "cell_type": "code",
   "execution_count": 42,
   "metadata": {
    "collapsed": true
   },
   "outputs": [],
   "source": [
    "best_rf = clf.best_estimator_"
   ]
  },
  {
   "cell_type": "code",
   "execution_count": 43,
   "metadata": {
    "collapsed": false,
    "scrolled": true
   },
   "outputs": [
    {
     "name": "stdout",
     "output_type": "stream",
     "text": [
      "             precision    recall  f1-score   support\n",
      "\n",
      "          0       0.90      0.82      0.86        78\n",
      "          1       0.61      0.76      0.68        29\n",
      "\n",
      "avg / total       0.82      0.80      0.81       107\n",
      "\n"
     ]
    }
   ],
   "source": [
    "print classification_report(best_rf.predict(X_test_std_km), y_test)"
   ]
  },
  {
   "cell_type": "code",
   "execution_count": 44,
   "metadata": {
    "collapsed": true
   },
   "outputs": [],
   "source": [
    "metrics = list(precision_recall_fscore_support(best_rf.predict(X_test_std_km), y_test, average='binary'))[:3]\n",
    "metrics.append(accuracy_score(best_rf.predict(X_test_std_km), y_test))"
   ]
  },
  {
   "cell_type": "code",
   "execution_count": 45,
   "metadata": {
    "collapsed": false
   },
   "outputs": [
    {
     "name": "stdout",
     "output_type": "stream",
     "text": [
      "10 loops, best of 3: 85.4 ms per loop\n"
     ]
    }
   ],
   "source": [
    "# time the model\n",
    "t = %timeit -o best_rf.fit(X_train_std_km, y_train)"
   ]
  },
  {
   "cell_type": "code",
   "execution_count": 46,
   "metadata": {
    "collapsed": false
   },
   "outputs": [
    {
     "data": {
      "text/html": [
       "<div>\n",
       "<table border=\"1\" class=\"dataframe\">\n",
       "  <thead>\n",
       "    <tr style=\"text-align: right;\">\n",
       "      <th></th>\n",
       "      <th>km_gnb</th>\n",
       "      <th>km_logreg</th>\n",
       "      <th>km_rf</th>\n",
       "    </tr>\n",
       "  </thead>\n",
       "  <tbody>\n",
       "    <tr>\n",
       "      <th>precision</th>\n",
       "      <td>0.611111</td>\n",
       "      <td>0.472222</td>\n",
       "      <td>0.611111</td>\n",
       "    </tr>\n",
       "    <tr>\n",
       "      <th>recall</th>\n",
       "      <td>0.611111</td>\n",
       "      <td>0.809524</td>\n",
       "      <td>0.758621</td>\n",
       "    </tr>\n",
       "    <tr>\n",
       "      <th>fscore</th>\n",
       "      <td>0.611111</td>\n",
       "      <td>0.596491</td>\n",
       "      <td>0.676923</td>\n",
       "    </tr>\n",
       "    <tr>\n",
       "      <th>accuracy</th>\n",
       "      <td>0.738318</td>\n",
       "      <td>0.785047</td>\n",
       "      <td>0.803738</td>\n",
       "    </tr>\n",
       "    <tr>\n",
       "      <th>time</th>\n",
       "      <td>0.000425</td>\n",
       "      <td>0.000851</td>\n",
       "      <td>0.085363</td>\n",
       "    </tr>\n",
       "  </tbody>\n",
       "</table>\n",
       "</div>"
      ],
      "text/plain": [
       "            km_gnb  km_logreg    km_rf\n",
       "precision 0.611111   0.472222 0.611111\n",
       "recall    0.611111   0.809524 0.758621\n",
       "fscore    0.611111   0.596491 0.676923\n",
       "accuracy  0.738318   0.785047 0.803738\n",
       "time      0.000425   0.000851 0.085363"
      ]
     },
     "execution_count": 46,
     "metadata": {},
     "output_type": "execute_result"
    }
   ],
   "source": [
    "metrics.append(t.best)\n",
    "model_stats['km_rf'] = metrics\n",
    "model_stats"
   ]
  },
  {
   "cell_type": "code",
   "execution_count": 47,
   "metadata": {
    "collapsed": false
   },
   "outputs": [
    {
     "data": {
      "image/png": "[encoded data removed]",
      "text/plain": [
       "<matplotlib.figure.Figure at 0x10c5c5cd0>"
      ]
     },
     "metadata": {},
     "output_type": "display_data"
    }
   ],
   "source": [
    "draw_learning_curve(best_rf, X_train_std_km, y_train, cv=cv);"
   ]
  },
  {
   "cell_type": "code",
   "execution_count": 48,
   "metadata": {
    "collapsed": false,
    "scrolled": true
   },
   "outputs": [
    {
     "data": {
      "text/html": [
       "<div>\n",
       "<table border=\"1\" class=\"dataframe\">\n",
       "  <thead>\n",
       "    <tr style=\"text-align: right;\">\n",
       "      <th></th>\n",
       "      <th>Features</th>\n",
       "      <th>Importance Score</th>\n",
       "    </tr>\n",
       "  </thead>\n",
       "  <tbody>\n",
       "    <tr>\n",
       "      <th>1</th>\n",
       "      <td>glucose</td>\n",
       "      <td>0.257322</td>\n",
       "    </tr>\n",
       "    <tr>\n",
       "      <th>7</th>\n",
       "      <td>age</td>\n",
       "      <td>0.139054</td>\n",
       "    </tr>\n",
       "    <tr>\n",
       "      <th>8</th>\n",
       "      <td>labels</td>\n",
       "      <td>0.112052</td>\n",
       "    </tr>\n",
       "    <tr>\n",
       "      <th>6</th>\n",
       "      <td>pedigree</td>\n",
       "      <td>0.110842</td>\n",
       "    </tr>\n",
       "    <tr>\n",
       "      <th>4</th>\n",
       "      <td>insulin</td>\n",
       "      <td>0.096315</td>\n",
       "    </tr>\n",
       "    <tr>\n",
       "      <th>5</th>\n",
       "      <td>bmi</td>\n",
       "      <td>0.093124</td>\n",
       "    </tr>\n",
       "    <tr>\n",
       "      <th>3</th>\n",
       "      <td>tsf</td>\n",
       "      <td>0.071389</td>\n",
       "    </tr>\n",
       "    <tr>\n",
       "      <th>0</th>\n",
       "      <td>preg</td>\n",
       "      <td>0.061809</td>\n",
       "    </tr>\n",
       "    <tr>\n",
       "      <th>2</th>\n",
       "      <td>dbp</td>\n",
       "      <td>0.058093</td>\n",
       "    </tr>\n",
       "  </tbody>\n",
       "</table>\n",
       "</div>"
      ],
      "text/plain": [
       "   Features  Importance Score\n",
       "1   glucose          0.257322\n",
       "7       age          0.139054\n",
       "8    labels          0.112052\n",
       "6  pedigree          0.110842\n",
       "4   insulin          0.096315\n",
       "5       bmi          0.093124\n",
       "3       tsf          0.071389\n",
       "0      preg          0.061809\n",
       "2       dbp          0.058093"
      ]
     },
     "execution_count": 48,
     "metadata": {},
     "output_type": "execute_result"
    }
   ],
   "source": [
    "features = X_train_km.columns\n",
    "feature_importances = best_rf.feature_importances_\n",
    "\n",
    "features_df = pd.DataFrame({'Features': features, 'Importance Score': feature_importances})\n",
    "features_df.sort_values('Importance Score', inplace=True, ascending=False)\n",
    "\n",
    "features_df"
   ]
  },
  {
   "cell_type": "markdown",
   "metadata": {},
   "source": [
    "6. Use the PCA outputs you got from running PCA above as your features. Rerun your \"worst\" and \"best\" model from HW2, with the PCA features instead of your old features. Describe your results.\n",
    "=="
   ]
  },
  {
   "cell_type": "code",
   "execution_count": 49,
   "metadata": {
    "collapsed": true
   },
   "outputs": [],
   "source": [
    "# run PCA using the top 5 features, as we saw that it explained over 80% variance\n",
    "pca = PCA(n_components=5, whiten=True)\n",
    "X_train_std_pca = pca.fit_transform(X_train_std)\n",
    "X_test_std_pca = pca.transform(X_test_std)"
   ]
  },
  {
   "cell_type": "code",
   "execution_count": 50,
   "metadata": {
    "collapsed": false,
    "scrolled": false
   },
   "outputs": [
    {
     "data": {
      "text/html": [
       "<div>\n",
       "<table border=\"1\" class=\"dataframe\">\n",
       "  <thead>\n",
       "    <tr style=\"text-align: right;\">\n",
       "      <th></th>\n",
       "      <th>0</th>\n",
       "      <th>1</th>\n",
       "      <th>2</th>\n",
       "      <th>3</th>\n",
       "      <th>4</th>\n",
       "    </tr>\n",
       "  </thead>\n",
       "  <tbody>\n",
       "    <tr>\n",
       "      <th>count</th>\n",
       "      <td>425.000000</td>\n",
       "      <td>425.000000</td>\n",
       "      <td>425.000000</td>\n",
       "      <td>425.000000</td>\n",
       "      <td>425.000000</td>\n",
       "    </tr>\n",
       "    <tr>\n",
       "      <th>mean</th>\n",
       "      <td>0.000000</td>\n",
       "      <td>-0.000000</td>\n",
       "      <td>0.000000</td>\n",
       "      <td>-0.000000</td>\n",
       "      <td>0.000000</td>\n",
       "    </tr>\n",
       "    <tr>\n",
       "      <th>std</th>\n",
       "      <td>1.001179</td>\n",
       "      <td>1.001179</td>\n",
       "      <td>1.001179</td>\n",
       "      <td>1.001179</td>\n",
       "      <td>1.001179</td>\n",
       "    </tr>\n",
       "    <tr>\n",
       "      <th>min</th>\n",
       "      <td>-2.172997</td>\n",
       "      <td>-3.323577</td>\n",
       "      <td>-5.145009</td>\n",
       "      <td>-5.073210</td>\n",
       "      <td>-2.965732</td>\n",
       "    </tr>\n",
       "    <tr>\n",
       "      <th>25%</th>\n",
       "      <td>-0.756500</td>\n",
       "      <td>-0.630920</td>\n",
       "      <td>-0.522273</td>\n",
       "      <td>-0.517409</td>\n",
       "      <td>-0.618574</td>\n",
       "    </tr>\n",
       "    <tr>\n",
       "      <th>50%</th>\n",
       "      <td>-0.081507</td>\n",
       "      <td>-0.024502</td>\n",
       "      <td>0.029269</td>\n",
       "      <td>0.137361</td>\n",
       "      <td>0.026541</td>\n",
       "    </tr>\n",
       "    <tr>\n",
       "      <th>75%</th>\n",
       "      <td>0.745563</td>\n",
       "      <td>0.626604</td>\n",
       "      <td>0.640965</td>\n",
       "      <td>0.663824</td>\n",
       "      <td>0.601164</td>\n",
       "    </tr>\n",
       "    <tr>\n",
       "      <th>max</th>\n",
       "      <td>2.929575</td>\n",
       "      <td>4.039223</td>\n",
       "      <td>2.810288</td>\n",
       "      <td>2.983671</td>\n",
       "      <td>3.591279</td>\n",
       "    </tr>\n",
       "  </tbody>\n",
       "</table>\n",
       "</div>"
      ],
      "text/plain": [
       "               0          1          2          3          4\n",
       "count 425.000000 425.000000 425.000000 425.000000 425.000000\n",
       "mean    0.000000  -0.000000   0.000000  -0.000000   0.000000\n",
       "std     1.001179   1.001179   1.001179   1.001179   1.001179\n",
       "min    -2.172997  -3.323577  -5.145009  -5.073210  -2.965732\n",
       "25%    -0.756500  -0.630920  -0.522273  -0.517409  -0.618574\n",
       "50%    -0.081507  -0.024502   0.029269   0.137361   0.026541\n",
       "75%     0.745563   0.626604   0.640965   0.663824   0.601164\n",
       "max     2.929575   4.039223   2.810288   2.983671   3.591279"
      ]
     },
     "execution_count": 50,
     "metadata": {},
     "output_type": "execute_result"
    }
   ],
   "source": [
    "pd.DataFrame(X_train_std_pca).describe()"
   ]
  },
  {
   "cell_type": "code",
   "execution_count": 51,
   "metadata": {
    "collapsed": false
   },
   "outputs": [
    {
     "data": {
      "text/plain": [
       "GaussianNB()"
      ]
     },
     "execution_count": 51,
     "metadata": {},
     "output_type": "execute_result"
    }
   ],
   "source": [
    "# Try Gaussian Naive Bayes with the 5 principal components\n",
    "gnb.fit(X_train_std_pca, y_train)"
   ]
  },
  {
   "cell_type": "code",
   "execution_count": 52,
   "metadata": {
    "collapsed": false,
    "scrolled": false
   },
   "outputs": [
    {
     "name": "stdout",
     "output_type": "stream",
     "text": [
      "             precision    recall  f1-score   support\n",
      "\n",
      "          0       0.87      0.78      0.83        79\n",
      "          1       0.53      0.68      0.59        28\n",
      "\n",
      "avg / total       0.78      0.76      0.77       107\n",
      "\n",
      "CV score [ 0.72941176  0.75294118  0.78823529  0.68235294  0.85882353  0.78823529\n",
      "  0.69411765  0.63529412  0.67058824  0.69411765], Average score 0.729411764706\n"
     ]
    },
    {
     "data": {
      "text/plain": [
       "0.7570093457943925"
      ]
     },
     "execution_count": 52,
     "metadata": {},
     "output_type": "execute_result"
    }
   ],
   "source": [
    "print classification_report(gnb.predict(X_test_std_pca), y_test)\n",
    "scores = cross_val_score(gnb, X_train_std_pca, y_train, cv=cv)\n",
    "print('CV score {}, Average score {}'.format(scores, scores.mean()))\n",
    "gnb.score(X_test_std_pca, y_test)"
   ]
  },
  {
   "cell_type": "code",
   "execution_count": 53,
   "metadata": {
    "collapsed": true
   },
   "outputs": [],
   "source": [
    "metrics = list(precision_recall_fscore_support(gnb.predict(X_test_std_pca), y_test, average='binary'))[:3]\n",
    "metrics.append(accuracy_score(gnb.predict(X_test_std_pca), y_test))"
   ]
  },
  {
   "cell_type": "code",
   "execution_count": 54,
   "metadata": {
    "collapsed": false,
    "scrolled": true
   },
   "outputs": [
    {
     "name": "stdout",
     "output_type": "stream",
     "text": [
      "1000 loops, best of 3: 426 µs per loop\n"
     ]
    }
   ],
   "source": [
    "# time the model\n",
    "t = %timeit -o gnb.fit(X_train_std_pca, y_train)"
   ]
  },
  {
   "cell_type": "code",
   "execution_count": 55,
   "metadata": {
    "collapsed": false
   },
   "outputs": [
    {
     "data": {
      "text/html": [
       "<div>\n",
       "<table border=\"1\" class=\"dataframe\">\n",
       "  <thead>\n",
       "    <tr style=\"text-align: right;\">\n",
       "      <th></th>\n",
       "      <th>km_gnb</th>\n",
       "      <th>km_logreg</th>\n",
       "      <th>km_rf</th>\n",
       "      <th>pca_gnb</th>\n",
       "    </tr>\n",
       "  </thead>\n",
       "  <tbody>\n",
       "    <tr>\n",
       "      <th>precision</th>\n",
       "      <td>0.611111</td>\n",
       "      <td>0.472222</td>\n",
       "      <td>0.611111</td>\n",
       "      <td>0.527778</td>\n",
       "    </tr>\n",
       "    <tr>\n",
       "      <th>recall</th>\n",
       "      <td>0.611111</td>\n",
       "      <td>0.809524</td>\n",
       "      <td>0.758621</td>\n",
       "      <td>0.678571</td>\n",
       "    </tr>\n",
       "    <tr>\n",
       "      <th>fscore</th>\n",
       "      <td>0.611111</td>\n",
       "      <td>0.596491</td>\n",
       "      <td>0.676923</td>\n",
       "      <td>0.593750</td>\n",
       "    </tr>\n",
       "    <tr>\n",
       "      <th>accuracy</th>\n",
       "      <td>0.738318</td>\n",
       "      <td>0.785047</td>\n",
       "      <td>0.803738</td>\n",
       "      <td>0.757009</td>\n",
       "    </tr>\n",
       "    <tr>\n",
       "      <th>time</th>\n",
       "      <td>0.000425</td>\n",
       "      <td>0.000851</td>\n",
       "      <td>0.085363</td>\n",
       "      <td>0.000426</td>\n",
       "    </tr>\n",
       "  </tbody>\n",
       "</table>\n",
       "</div>"
      ],
      "text/plain": [
       "            km_gnb  km_logreg    km_rf  pca_gnb\n",
       "precision 0.611111   0.472222 0.611111 0.527778\n",
       "recall    0.611111   0.809524 0.758621 0.678571\n",
       "fscore    0.611111   0.596491 0.676923 0.593750\n",
       "accuracy  0.738318   0.785047 0.803738 0.757009\n",
       "time      0.000425   0.000851 0.085363 0.000426"
      ]
     },
     "execution_count": 55,
     "metadata": {},
     "output_type": "execute_result"
    }
   ],
   "source": [
    "metrics.append(t.best)\n",
    "model_stats['pca_gnb'] = metrics\n",
    "model_stats"
   ]
  },
  {
   "cell_type": "code",
   "execution_count": 56,
   "metadata": {
    "collapsed": false
   },
   "outputs": [
    {
     "data": {
      "image/png": "[encoded data removed]",
      "text/plain": [
       "<matplotlib.figure.Figure at 0x10d276f10>"
      ]
     },
     "metadata": {},
     "output_type": "display_data"
    }
   ],
   "source": [
    "draw_learning_curve(gnb, X_train_std_pca, y_train, cv=cv);"
   ]
  },
  {
   "cell_type": "code",
   "execution_count": 57,
   "metadata": {
    "collapsed": false
   },
   "outputs": [
    {
     "data": {
      "text/plain": [
       "GridSearchCV(cv=ShuffleSplit(425, n_iter=10, test_size=0.2, random_state=0),\n",
       "       error_score='raise',\n",
       "       estimator=LogisticRegression(C=1.0, class_weight=None, dual=False, fit_intercept=True,\n",
       "          intercept_scaling=1, max_iter=100, multi_class='ovr', n_jobs=1,\n",
       "          penalty='l2', random_state=None, solver='liblinear', tol=0.0001,\n",
       "          verbose=0, warm_start=False),\n",
       "       fit_params={}, iid=True, n_jobs=1,\n",
       "       param_grid={'penalty': ['l1', 'l2'], 'C': array([ 0.05   ,  0.05918,  0.06837,  0.07755,  0.08673,  0.09592,\n",
       "        0.1051 ,  0.11429,  0.12347,  0.13265,  0.14184,  0.15102,\n",
       "        0.1602 ,  0.16939,  0.17857,  0.18776,  0.19694,  0.20612,\n",
       "        0.21531,  0.22449,  0.23367,  0.24286,  0.25204, ...653,\n",
       "        0.43571,  0.4449 ,  0.45408,  0.46327,  0.47245,  0.48163,\n",
       "        0.49082,  0.5    ])},\n",
       "       pre_dispatch='2*n_jobs', refit=True, scoring=None, verbose=0)"
      ]
     },
     "execution_count": 57,
     "metadata": {},
     "output_type": "execute_result"
    }
   ],
   "source": [
    "# Logistic Regression with ridge and lasso\n",
    "parameters = {'penalty': ['l1','l2'], 'C':np.linspace(0.05,0.5,50)}\n",
    "clf = GridSearchCV(logreg, parameters, cv=cv)\n",
    "clf.fit(X_train_std_pca, y_train)"
   ]
  },
  {
   "cell_type": "code",
   "execution_count": 58,
   "metadata": {
    "collapsed": false,
    "scrolled": true
   },
   "outputs": [
    {
     "data": {
      "text/plain": [
       "{'C': 0.1142857142857143, 'penalty': 'l1'}"
      ]
     },
     "execution_count": 58,
     "metadata": {},
     "output_type": "execute_result"
    }
   ],
   "source": [
    "# get the best performing combo\n",
    "clf.best_params_"
   ]
  },
  {
   "cell_type": "code",
   "execution_count": 59,
   "metadata": {
    "collapsed": true
   },
   "outputs": [],
   "source": [
    "best_logreg = clf.best_estimator_"
   ]
  },
  {
   "cell_type": "code",
   "execution_count": 60,
   "metadata": {
    "collapsed": false
   },
   "outputs": [
    {
     "data": {
      "text/html": [
       "<div>\n",
       "<table border=\"1\" class=\"dataframe\">\n",
       "  <thead>\n",
       "    <tr style=\"text-align: right;\">\n",
       "      <th></th>\n",
       "      <th>coefs</th>\n",
       "      <th>features</th>\n",
       "    </tr>\n",
       "  </thead>\n",
       "  <tbody>\n",
       "    <tr>\n",
       "      <th>0</th>\n",
       "      <td>1.220214</td>\n",
       "      <td>0</td>\n",
       "    </tr>\n",
       "    <tr>\n",
       "      <th>4</th>\n",
       "      <td>0.094735</td>\n",
       "      <td>4</td>\n",
       "    </tr>\n",
       "    <tr>\n",
       "      <th>1</th>\n",
       "      <td>0.000000</td>\n",
       "      <td>1</td>\n",
       "    </tr>\n",
       "    <tr>\n",
       "      <th>3</th>\n",
       "      <td>-0.082789</td>\n",
       "      <td>3</td>\n",
       "    </tr>\n",
       "    <tr>\n",
       "      <th>2</th>\n",
       "      <td>-0.204296</td>\n",
       "      <td>2</td>\n",
       "    </tr>\n",
       "  </tbody>\n",
       "</table>\n",
       "</div>"
      ],
      "text/plain": [
       "      coefs  features\n",
       "0  1.220214         0\n",
       "4  0.094735         4\n",
       "1  0.000000         1\n",
       "3 -0.082789         3\n",
       "2 -0.204296         2"
      ]
     },
     "execution_count": 60,
     "metadata": {},
     "output_type": "execute_result"
    }
   ],
   "source": [
    "# see which coefficients have the biggest weights\n",
    "pd.DataFrame({'features': pd.DataFrame(X_train_std_pca).columns, 'coefs': best_logreg.coef_[0]}).sort_values(by='coefs',ascending=False)"
   ]
  },
  {
   "cell_type": "code",
   "execution_count": 61,
   "metadata": {
    "collapsed": false,
    "scrolled": false
   },
   "outputs": [
    {
     "name": "stdout",
     "output_type": "stream",
     "text": [
      "             precision    recall  f1-score   support\n",
      "\n",
      "          0       0.94      0.76      0.84        88\n",
      "          1       0.42      0.79      0.55        19\n",
      "\n",
      "avg / total       0.85      0.77      0.79       107\n",
      "\n",
      "CV score [ 0.71764706  0.75294118  0.78823529  0.74117647  0.84705882  0.81176471\n",
      "  0.75294118  0.69411765  0.68235294  0.76470588], Average score 0.755294117647\n"
     ]
    },
    {
     "data": {
      "text/plain": [
       "0.76635514018691586"
      ]
     },
     "execution_count": 61,
     "metadata": {},
     "output_type": "execute_result"
    }
   ],
   "source": [
    "print classification_report(best_logreg.predict(X_test_std_pca), y_test)\n",
    "scores = cross_val_score(best_logreg, X_train_std_pca, y_train, cv=cv)\n",
    "print('CV score {}, Average score {}'.format(scores, scores.mean()))\n",
    "best_logreg.score(X_test_std_pca, y_test)"
   ]
  },
  {
   "cell_type": "code",
   "execution_count": 62,
   "metadata": {
    "collapsed": true
   },
   "outputs": [],
   "source": [
    "metrics = list(precision_recall_fscore_support(best_logreg.predict(X_test_std_pca), y_test, average='binary'))[:3]\n",
    "metrics.append(accuracy_score(best_logreg.predict(X_test_std_pca), y_test))"
   ]
  },
  {
   "cell_type": "code",
   "execution_count": 63,
   "metadata": {
    "collapsed": false,
    "scrolled": true
   },
   "outputs": [
    {
     "name": "stdout",
     "output_type": "stream",
     "text": [
      "1000 loops, best of 3: 531 µs per loop\n"
     ]
    }
   ],
   "source": [
    "# time the model\n",
    "t = %timeit -o best_logreg.fit(X_train_std_pca, y_train)"
   ]
  },
  {
   "cell_type": "code",
   "execution_count": 64,
   "metadata": {
    "collapsed": false
   },
   "outputs": [
    {
     "data": {
      "text/html": [
       "<div>\n",
       "<table border=\"1\" class=\"dataframe\">\n",
       "  <thead>\n",
       "    <tr style=\"text-align: right;\">\n",
       "      <th></th>\n",
       "      <th>km_gnb</th>\n",
       "      <th>km_logreg</th>\n",
       "      <th>km_rf</th>\n",
       "      <th>pca_gnb</th>\n",
       "      <th>pca_logreg</th>\n",
       "    </tr>\n",
       "  </thead>\n",
       "  <tbody>\n",
       "    <tr>\n",
       "      <th>precision</th>\n",
       "      <td>0.611111</td>\n",
       "      <td>0.472222</td>\n",
       "      <td>0.611111</td>\n",
       "      <td>0.527778</td>\n",
       "      <td>0.416667</td>\n",
       "    </tr>\n",
       "    <tr>\n",
       "      <th>recall</th>\n",
       "      <td>0.611111</td>\n",
       "      <td>0.809524</td>\n",
       "      <td>0.758621</td>\n",
       "      <td>0.678571</td>\n",
       "      <td>0.789474</td>\n",
       "    </tr>\n",
       "    <tr>\n",
       "      <th>fscore</th>\n",
       "      <td>0.611111</td>\n",
       "      <td>0.596491</td>\n",
       "      <td>0.676923</td>\n",
       "      <td>0.593750</td>\n",
       "      <td>0.545455</td>\n",
       "    </tr>\n",
       "    <tr>\n",
       "      <th>accuracy</th>\n",
       "      <td>0.738318</td>\n",
       "      <td>0.785047</td>\n",
       "      <td>0.803738</td>\n",
       "      <td>0.757009</td>\n",
       "      <td>0.766355</td>\n",
       "    </tr>\n",
       "    <tr>\n",
       "      <th>time</th>\n",
       "      <td>0.000425</td>\n",
       "      <td>0.000851</td>\n",
       "      <td>0.085363</td>\n",
       "      <td>0.000426</td>\n",
       "      <td>0.000531</td>\n",
       "    </tr>\n",
       "  </tbody>\n",
       "</table>\n",
       "</div>"
      ],
      "text/plain": [
       "            km_gnb  km_logreg    km_rf  pca_gnb  pca_logreg\n",
       "precision 0.611111   0.472222 0.611111 0.527778    0.416667\n",
       "recall    0.611111   0.809524 0.758621 0.678571    0.789474\n",
       "fscore    0.611111   0.596491 0.676923 0.593750    0.545455\n",
       "accuracy  0.738318   0.785047 0.803738 0.757009    0.766355\n",
       "time      0.000425   0.000851 0.085363 0.000426    0.000531"
      ]
     },
     "execution_count": 64,
     "metadata": {},
     "output_type": "execute_result"
    }
   ],
   "source": [
    "metrics.append(t.best)\n",
    "model_stats['pca_logreg'] = metrics\n",
    "model_stats"
   ]
  },
  {
   "cell_type": "code",
   "execution_count": 65,
   "metadata": {
    "collapsed": false,
    "scrolled": true
   },
   "outputs": [
    {
     "data": {
      "image/png": "[encoded data removed]",
      "text/plain": [
       "<matplotlib.figure.Figure at 0x10c65e310>"
      ]
     },
     "metadata": {},
     "output_type": "display_data"
    }
   ],
   "source": [
    "draw_learning_curve(best_logreg, X_train_std_pca, y_train, cv=cv);"
   ]
  },
  {
   "cell_type": "code",
   "execution_count": 66,
   "metadata": {
    "collapsed": false
   },
   "outputs": [
    {
     "data": {
      "text/plain": [
       "GridSearchCV(cv=None, error_score='raise',\n",
       "       estimator=RandomForestClassifier(bootstrap=True, class_weight=None, criterion='gini',\n",
       "            max_depth=None, max_features='auto', max_leaf_nodes=None,\n",
       "            min_samples_leaf=1, min_samples_split=2,\n",
       "            min_weight_fraction_leaf=0.0, n_estimators=10, n_jobs=1,\n",
       "            oob_score=False, random_state=1, verbose=0, warm_start=False),\n",
       "       fit_params={}, iid=True, n_jobs=1,\n",
       "       param_grid={'n_estimators': [20, 22, 24, 26, 28, 30, 32, 34, 36, 38, 40, 42, 44, 46, 48], 'min_samples_split': [2, 3, 4, 5, 6, 7, 8, 9], 'min_samples_leaf': [1, 2]},\n",
       "       pre_dispatch='2*n_jobs', refit=True, scoring=None, verbose=0)"
      ]
     },
     "execution_count": 66,
     "metadata": {},
     "output_type": "execute_result"
    }
   ],
   "source": [
    "# try random forest\n",
    "rf = RandomForestClassifier(random_state=1)\n",
    "parameters = {'n_estimators':range(20,50,2), 'min_samples_split':range(2,10),'min_samples_leaf':range(1,3)}\n",
    "clf = GridSearchCV(rf, parameters)\n",
    "clf.fit(X_train_std_pca, y_train)"
   ]
  },
  {
   "cell_type": "code",
   "execution_count": 67,
   "metadata": {
    "collapsed": false,
    "scrolled": true
   },
   "outputs": [
    {
     "data": {
      "text/plain": [
       "{'min_samples_leaf': 1, 'min_samples_split': 5, 'n_estimators': 34}"
      ]
     },
     "execution_count": 67,
     "metadata": {},
     "output_type": "execute_result"
    }
   ],
   "source": [
    "# get the best performing combo\n",
    "clf.best_params_"
   ]
  },
  {
   "cell_type": "code",
   "execution_count": 68,
   "metadata": {
    "collapsed": true
   },
   "outputs": [],
   "source": [
    "best_rf = clf.best_estimator_"
   ]
  },
  {
   "cell_type": "code",
   "execution_count": 69,
   "metadata": {
    "collapsed": false,
    "scrolled": true
   },
   "outputs": [
    {
     "name": "stdout",
     "output_type": "stream",
     "text": [
      "             precision    recall  f1-score   support\n",
      "\n",
      "          0       0.89      0.77      0.82        82\n",
      "          1       0.47      0.68      0.56        25\n",
      "\n",
      "avg / total       0.79      0.75      0.76       107\n",
      "\n",
      "CV score [ 0.69411765  0.70588235  0.71764706  0.71764706  0.82352941  0.78823529\n",
      "  0.72941176  0.70588235  0.64705882  0.71764706], Average score 0.724705882353\n"
     ]
    },
    {
     "data": {
      "text/plain": [
       "0.74766355140186913"
      ]
     },
     "execution_count": 69,
     "metadata": {},
     "output_type": "execute_result"
    }
   ],
   "source": [
    "print classification_report(best_rf.predict(X_test_std_pca), y_test)\n",
    "scores = cross_val_score(best_rf, X_train_std_pca, y_train, cv=cv)\n",
    "print('CV score {}, Average score {}'.format(scores, scores.mean()))\n",
    "best_rf.score(X_test_std_pca, y_test)"
   ]
  },
  {
   "cell_type": "code",
   "execution_count": 70,
   "metadata": {
    "collapsed": true
   },
   "outputs": [],
   "source": [
    "metrics = list(precision_recall_fscore_support(best_rf.predict(X_test_std_pca), y_test, average='binary'))[:3]\n",
    "metrics.append(accuracy_score(best_rf.predict(X_test_std_pca), y_test))"
   ]
  },
  {
   "cell_type": "code",
   "execution_count": 71,
   "metadata": {
    "collapsed": false,
    "scrolled": false
   },
   "outputs": [
    {
     "data": {
      "text/html": [
       "<div>\n",
       "<table border=\"1\" class=\"dataframe\">\n",
       "  <thead>\n",
       "    <tr style=\"text-align: right;\">\n",
       "      <th></th>\n",
       "      <th>Features</th>\n",
       "      <th>Importance Score</th>\n",
       "    </tr>\n",
       "  </thead>\n",
       "  <tbody>\n",
       "    <tr>\n",
       "      <th>0</th>\n",
       "      <td>0</td>\n",
       "      <td>0.434391</td>\n",
       "    </tr>\n",
       "    <tr>\n",
       "      <th>2</th>\n",
       "      <td>2</td>\n",
       "      <td>0.169239</td>\n",
       "    </tr>\n",
       "    <tr>\n",
       "      <th>1</th>\n",
       "      <td>1</td>\n",
       "      <td>0.142728</td>\n",
       "    </tr>\n",
       "    <tr>\n",
       "      <th>3</th>\n",
       "      <td>3</td>\n",
       "      <td>0.132883</td>\n",
       "    </tr>\n",
       "    <tr>\n",
       "      <th>4</th>\n",
       "      <td>4</td>\n",
       "      <td>0.120758</td>\n",
       "    </tr>\n",
       "  </tbody>\n",
       "</table>\n",
       "</div>"
      ],
      "text/plain": [
       "   Features  Importance Score\n",
       "0         0          0.434391\n",
       "2         2          0.169239\n",
       "1         1          0.142728\n",
       "3         3          0.132883\n",
       "4         4          0.120758"
      ]
     },
     "execution_count": 71,
     "metadata": {},
     "output_type": "execute_result"
    }
   ],
   "source": [
    "features = pd.DataFrame(X_train_std_pca).columns\n",
    "feature_importances = best_rf.feature_importances_\n",
    "\n",
    "features_df = pd.DataFrame({'Features': features, 'Importance Score': feature_importances})\n",
    "features_df.sort_values('Importance Score', inplace=True, ascending=False)\n",
    "\n",
    "features_df"
   ]
  },
  {
   "cell_type": "code",
   "execution_count": 72,
   "metadata": {
    "collapsed": false
   },
   "outputs": [
    {
     "name": "stdout",
     "output_type": "stream",
     "text": [
      "10 loops, best of 3: 66.5 ms per loop\n"
     ]
    }
   ],
   "source": [
    "# time the model\n",
    "t = %timeit -o best_rf.fit(X_train_std_pca, y_train)"
   ]
  },
  {
   "cell_type": "code",
   "execution_count": 73,
   "metadata": {
    "collapsed": false
   },
   "outputs": [
    {
     "data": {
      "text/html": [
       "<div>\n",
       "<table border=\"1\" class=\"dataframe\">\n",
       "  <thead>\n",
       "    <tr style=\"text-align: right;\">\n",
       "      <th></th>\n",
       "      <th>km_gnb</th>\n",
       "      <th>km_logreg</th>\n",
       "      <th>km_rf</th>\n",
       "      <th>pca_gnb</th>\n",
       "      <th>pca_logreg</th>\n",
       "      <th>pca_rf</th>\n",
       "    </tr>\n",
       "  </thead>\n",
       "  <tbody>\n",
       "    <tr>\n",
       "      <th>precision</th>\n",
       "      <td>0.611111</td>\n",
       "      <td>0.472222</td>\n",
       "      <td>0.611111</td>\n",
       "      <td>0.527778</td>\n",
       "      <td>0.416667</td>\n",
       "      <td>0.472222</td>\n",
       "    </tr>\n",
       "    <tr>\n",
       "      <th>recall</th>\n",
       "      <td>0.611111</td>\n",
       "      <td>0.809524</td>\n",
       "      <td>0.758621</td>\n",
       "      <td>0.678571</td>\n",
       "      <td>0.789474</td>\n",
       "      <td>0.680000</td>\n",
       "    </tr>\n",
       "    <tr>\n",
       "      <th>fscore</th>\n",
       "      <td>0.611111</td>\n",
       "      <td>0.596491</td>\n",
       "      <td>0.676923</td>\n",
       "      <td>0.593750</td>\n",
       "      <td>0.545455</td>\n",
       "      <td>0.557377</td>\n",
       "    </tr>\n",
       "    <tr>\n",
       "      <th>accuracy</th>\n",
       "      <td>0.738318</td>\n",
       "      <td>0.785047</td>\n",
       "      <td>0.803738</td>\n",
       "      <td>0.757009</td>\n",
       "      <td>0.766355</td>\n",
       "      <td>0.747664</td>\n",
       "    </tr>\n",
       "    <tr>\n",
       "      <th>time</th>\n",
       "      <td>0.000425</td>\n",
       "      <td>0.000851</td>\n",
       "      <td>0.085363</td>\n",
       "      <td>0.000426</td>\n",
       "      <td>0.000531</td>\n",
       "      <td>0.066462</td>\n",
       "    </tr>\n",
       "  </tbody>\n",
       "</table>\n",
       "</div>"
      ],
      "text/plain": [
       "            km_gnb  km_logreg    km_rf  pca_gnb  pca_logreg   pca_rf\n",
       "precision 0.611111   0.472222 0.611111 0.527778    0.416667 0.472222\n",
       "recall    0.611111   0.809524 0.758621 0.678571    0.789474 0.680000\n",
       "fscore    0.611111   0.596491 0.676923 0.593750    0.545455 0.557377\n",
       "accuracy  0.738318   0.785047 0.803738 0.757009    0.766355 0.747664\n",
       "time      0.000425   0.000851 0.085363 0.000426    0.000531 0.066462"
      ]
     },
     "execution_count": 73,
     "metadata": {},
     "output_type": "execute_result"
    }
   ],
   "source": [
    "metrics.append(t.best)\n",
    "model_stats['pca_rf'] = metrics\n",
    "model_stats"
   ]
  },
  {
   "cell_type": "code",
   "execution_count": 74,
   "metadata": {
    "collapsed": false,
    "scrolled": false
   },
   "outputs": [
    {
     "data": {
      "image/png": "[encoded data removed]",
      "text/plain": [
       "<matplotlib.figure.Figure at 0x10d79df50>"
      ]
     },
     "metadata": {},
     "output_type": "display_data"
    }
   ],
   "source": [
    "draw_learning_curve(best_rf, X_train_std_pca, y_train, cv=cv);"
   ]
  },
  {
   "cell_type": "markdown",
   "metadata": {},
   "source": [
    "7. Give your conclusions on the use of k-Means and PCA on the Diabetes dataset\n",
    "=="
   ]
  },
  {
   "cell_type": "markdown",
   "metadata": {},
   "source": [
    "k-means and PCA have varying effects on performance depending on the model used.\n",
    "k-means adds a correlated feature, which could help reduce bias but increase variance\n",
    "* reduced performace of Gaussian NB\n",
    "* increaced precision but reduced recall of logistic regreassion\n",
    "* increased performance of random forest\n",
    "\n",
    "PCA reduces features but ensures they are not correlated, which can increase bias but reduce variance\n",
    "* didn't significantly change performance of Gaussian NB\n",
    "* reduced performance of logistric regression with a sligt improvement in time\n",
    "* reduced performance of random forest and increased time (due to higer number of trees as optimal param)\n",
    "\n",
    "Overall, for this dataset k-means and PCA were not particularly benefical"
   ]
  },
  {
   "cell_type": "code",
   "execution_count": 75,
   "metadata": {
    "collapsed": false
   },
   "outputs": [],
   "source": [
    "model_stats['gnb_hw2'] = [5.27778000e-01,   6.78571000e-01,   5.93750000e-01, 7.57009000e-01,   3.83000000e-04]\n",
    "model_stats['logreg_hw2'] = [4.44444000e-01,   8.42105000e-01,   5.81818000e-01, 7.85047000e-01,   6.14000000e-04]\n",
    "model_stats['rf_hw2'] = [0.527778,  0.730769,  0.612903,  0.775701,  0.035311]"
   ]
  },
  {
   "cell_type": "code",
   "execution_count": 77,
   "metadata": {
    "collapsed": false
   },
   "outputs": [
    {
     "data": {
      "text/html": [
       "<div>\n",
       "<table border=\"1\" class=\"dataframe\">\n",
       "  <thead>\n",
       "    <tr style=\"text-align: right;\">\n",
       "      <th></th>\n",
       "      <th>gnb_hw2</th>\n",
       "      <th>km_gnb</th>\n",
       "      <th>pca_gnb</th>\n",
       "      <th>logreg_hw2</th>\n",
       "      <th>km_logreg</th>\n",
       "      <th>pca_logreg</th>\n",
       "      <th>rf_hw2</th>\n",
       "      <th>km_rf</th>\n",
       "      <th>pca_rf</th>\n",
       "    </tr>\n",
       "  </thead>\n",
       "  <tbody>\n",
       "    <tr>\n",
       "      <th>precision</th>\n",
       "      <td>0.527778</td>\n",
       "      <td>0.611111</td>\n",
       "      <td>0.527778</td>\n",
       "      <td>0.444444</td>\n",
       "      <td>0.472222</td>\n",
       "      <td>0.416667</td>\n",
       "      <td>0.527778</td>\n",
       "      <td>0.611111</td>\n",
       "      <td>0.472222</td>\n",
       "    </tr>\n",
       "    <tr>\n",
       "      <th>recall</th>\n",
       "      <td>0.678571</td>\n",
       "      <td>0.611111</td>\n",
       "      <td>0.678571</td>\n",
       "      <td>0.842105</td>\n",
       "      <td>0.809524</td>\n",
       "      <td>0.789474</td>\n",
       "      <td>0.730769</td>\n",
       "      <td>0.758621</td>\n",
       "      <td>0.680000</td>\n",
       "    </tr>\n",
       "    <tr>\n",
       "      <th>fscore</th>\n",
       "      <td>0.593750</td>\n",
       "      <td>0.611111</td>\n",
       "      <td>0.593750</td>\n",
       "      <td>0.581818</td>\n",
       "      <td>0.596491</td>\n",
       "      <td>0.545455</td>\n",
       "      <td>0.612903</td>\n",
       "      <td>0.676923</td>\n",
       "      <td>0.557377</td>\n",
       "    </tr>\n",
       "    <tr>\n",
       "      <th>accuracy</th>\n",
       "      <td>0.757009</td>\n",
       "      <td>0.738318</td>\n",
       "      <td>0.757009</td>\n",
       "      <td>0.785047</td>\n",
       "      <td>0.785047</td>\n",
       "      <td>0.766355</td>\n",
       "      <td>0.775701</td>\n",
       "      <td>0.803738</td>\n",
       "      <td>0.747664</td>\n",
       "    </tr>\n",
       "    <tr>\n",
       "      <th>time</th>\n",
       "      <td>0.000383</td>\n",
       "      <td>0.000425</td>\n",
       "      <td>0.000426</td>\n",
       "      <td>0.000614</td>\n",
       "      <td>0.000851</td>\n",
       "      <td>0.000531</td>\n",
       "      <td>0.035311</td>\n",
       "      <td>0.085363</td>\n",
       "      <td>0.066462</td>\n",
       "    </tr>\n",
       "  </tbody>\n",
       "</table>\n",
       "</div>"
      ],
      "text/plain": [
       "           gnb_hw2   km_gnb  pca_gnb  logreg_hw2  km_logreg  pca_logreg  \\\n",
       "precision 0.527778 0.611111 0.527778    0.444444   0.472222    0.416667   \n",
       "recall    0.678571 0.611111 0.678571    0.842105   0.809524    0.789474   \n",
       "fscore    0.593750 0.611111 0.593750    0.581818   0.596491    0.545455   \n",
       "accuracy  0.757009 0.738318 0.757009    0.785047   0.785047    0.766355   \n",
       "time      0.000383 0.000425 0.000426    0.000614   0.000851    0.000531   \n",
       "\n",
       "            rf_hw2    km_rf   pca_rf  \n",
       "precision 0.527778 0.611111 0.472222  \n",
       "recall    0.730769 0.758621 0.680000  \n",
       "fscore    0.612903 0.676923 0.557377  \n",
       "accuracy  0.775701 0.803738 0.747664  \n",
       "time      0.035311 0.085363 0.066462  "
      ]
     },
     "execution_count": 77,
     "metadata": {},
     "output_type": "execute_result"
    }
   ],
   "source": [
    "model_stats[['gnb_hw2','km_gnb','pca_gnb','logreg_hw2','km_logreg','pca_logreg','rf_hw2','km_rf','pca_rf']]"
   ]
  }
 ],
 "metadata": {
  "kernelspec": {
   "display_name": "Python 2",
   "language": "python",
   "name": "python2"
  },
  "language_info": {
   "codemirror_mode": {
    "name": "ipython",
    "version": 2
   },
   "file_extension": ".py",
   "mimetype": "text/x-python",
   "name": "python",
   "nbconvert_exporter": "python",
   "pygments_lexer": "ipython2",
   "version": "2.7.11"
  }
 },
 "nbformat": 4,
 "nbformat_minor": 0
}
